{
 "cells": [
  {
   "cell_type": "code",
   "execution_count": 919,
   "id": "bf9a47c0",
   "metadata": {},
   "outputs": [],
   "source": [
    "import re\n",
    "import pandas as pd\n",
    "import numpy as np\n",
    "from collections import defaultdict\n",
    "\n",
    "from sklearn.model_selection import train_test_split\n",
    "from sklearn.preprocessing import OneHotEncoder\n",
    "\n",
    "from sklearn.tree import DecisionTreeClassifier\n",
    "from sklearn.neural_network import MLPClassifier\n",
    "from sklearn.ensemble import GradientBoostingClassifier\n",
    "from sklearn.svm import SVC\n",
    "from sklearn.neighbors import KNeighborsClassifier\n",
    "from sklearn.model_selection import KFold"
   ]
  },
  {
   "cell_type": "code",
   "execution_count": null,
   "id": "1718d86e",
   "metadata": {},
   "outputs": [],
   "source": []
  },
  {
   "cell_type": "code",
   "execution_count": 920,
   "id": "9fa8fd73",
   "metadata": {},
   "outputs": [],
   "source": [
    "import importlib\n",
    "import datasets\n",
    "importlib.reload(datasets)\n",
    "from datasets import load_credit_score, load_term_deposits"
   ]
  },
  {
   "cell_type": "code",
   "execution_count": 921,
   "id": "64378569",
   "metadata": {},
   "outputs": [
    {
     "data": {
      "text/plain": [
       "0.11217754172989378"
      ]
     },
     "execution_count": 921,
     "metadata": {},
     "output_type": "execute_result"
    }
   ],
   "source": [
    "y_train.mean()"
   ]
  },
  {
   "cell_type": "code",
   "execution_count": 922,
   "id": "f173438c",
   "metadata": {},
   "outputs": [],
   "source": [
    "(X_train, y_train), (X_test, y_test) = load_term_deposits()"
   ]
  },
  {
   "cell_type": "code",
   "execution_count": 923,
   "id": "75bcfc16",
   "metadata": {},
   "outputs": [],
   "source": [
    "import evaluate\n",
    "importlib.reload(evaluate)\n",
    "\n",
    "def grid_search(model_cls, grid={}, **kwargs):\n",
    "    if len(kwargs) == len(grid):\n",
    "        model_fn = evaluate.create_model_fn(model_cls, grid)\n",
    "        metrics = evaluate.cross_validate(X_train, y_train, model_fn)\n",
    "        metrics.update(grid)\n",
    "        return [metrics]\n",
    "\n",
    "    for arg in kwargs:\n",
    "        if arg in grid: continue\n",
    "        break\n",
    "    \n",
    "    out = []\n",
    "    for value in kwargs[arg]:\n",
    "        new = dict(grid)\n",
    "        new[arg] = value\n",
    "        out.extend(grid_search(model_cls, new, **kwargs))\n",
    "    return out"
   ]
  },
  {
   "cell_type": "code",
   "execution_count": 924,
   "id": "84e24b0f",
   "metadata": {},
   "outputs": [],
   "source": [
    "# n_neighbors = [8, 16, 32, 64, 128, 256, 512, 1024, 2048]\n",
    "# weights = ['uniform', 'distance']\n",
    "\n",
    "# readings = pd.DataFrame(grid_search(\n",
    "#     [0.84, 0.16], \n",
    "#     KNeighborsClassifier, \n",
    "#     n_neighbors=n_neighbors,\n",
    "#     weights=weights,\n",
    "# ))"
   ]
  },
  {
   "cell_type": "code",
   "execution_count": null,
   "id": "f604280f",
   "metadata": {},
   "outputs": [],
   "source": []
  },
  {
   "cell_type": "code",
   "execution_count": 875,
   "id": "7e57a8c1",
   "metadata": {},
   "outputs": [],
   "source": [
    "from sklearn.ensemble import AdaBoostClassifier, HistGradientBoostingClassifier\n",
    "\n",
    "cla = HistGradientBoostingClassifier(\n",
    "#     max_depth=4,\n",
    "    min_samples_leaf=64,\n",
    "    l2_regularization=0.3,\n",
    "    validation_fraction=0.2,\n",
    "    learning_rate=0.05,\n",
    "#     n_estimators=100,\n",
    "#     base_estimator=DecisionTreeClassifier(max_depth=1)\n",
    ")"
   ]
  },
  {
   "cell_type": "code",
   "execution_count": 876,
   "id": "17922961",
   "metadata": {},
   "outputs": [
    {
     "data": {
      "text/plain": [
       "HistGradientBoostingClassifier(l2_regularization=0.3, learning_rate=0.05,\n",
       "                               min_samples_leaf=64, validation_fraction=0.2)"
      ]
     },
     "execution_count": 876,
     "metadata": {},
     "output_type": "execute_result"
    }
   ],
   "source": [
    "cla.fit(X_train, y_train)"
   ]
  },
  {
   "cell_type": "code",
   "execution_count": 877,
   "id": "c2bdcbf7",
   "metadata": {},
   "outputs": [
    {
     "data": {
      "text/plain": [
       "{'Accuracy': 0.9095599393019727,\n",
       " 'AUROC': 0.9259798997826544,\n",
       " 'AUPRC': 0.7929160734186895}"
      ]
     },
     "execution_count": 877,
     "metadata": {},
     "output_type": "execute_result"
    }
   ],
   "source": [
    "evaluate.get_metrics(y_test, cla.predict_proba(X_test))"
   ]
  },
  {
   "cell_type": "code",
   "execution_count": 891,
   "id": "df9abfbc",
   "metadata": {},
   "outputs": [
    {
     "name": "stderr",
     "output_type": "stream",
     "text": [
      "5it [00:07,  1.46s/it]\n",
      "5it [00:07,  1.56s/it]\n",
      "5it [00:06,  1.40s/it]\n",
      "5it [00:06,  1.23s/it]\n"
     ]
    }
   ],
   "source": [
    "boosting_readings = pd.DataFrame(grid_search(\n",
    "    HistGradientBoostingClassifier,\n",
    "    min_samples_leaf=[2, 4, 8, 16, 32],\n",
    "    max_depth=[8, 16, 32, 64],\n",
    "    l2_regularization=[0.35],\n",
    "    learning_rate=[0.035],\n",
    "))"
   ]
  },
  {
   "cell_type": "code",
   "execution_count": 893,
   "id": "7a834791",
   "metadata": {
    "scrolled": true
   },
   "outputs": [],
   "source": [
    "# dtree_readings = pd.DataFrame(grid_search(\n",
    "#     DecisionTreeClassifier,\n",
    "#     min_samples_leaf=[8, 16, 32, 64, 128, 256],\n",
    "#     max_depth=[8, 16, 32, 64],\n",
    "#     min_samples_split=[128, 256, 512],\n",
    "#     criterion=['gini', 'entropy']\n",
    "# ))\n",
    "# dtree_readings.sort_values('AUPRC')"
   ]
  },
  {
   "cell_type": "code",
   "execution_count": 898,
   "id": "758c67c8",
   "metadata": {},
   "outputs": [],
   "source": [
    "# svc_readings = pd.DataFrame(grid_search(\n",
    "#     SVC,\n",
    "#     kernel=['linear', 'poly', 'rbf', 'sigmoid'],\n",
    "#     probability=[True],\n",
    "# ))"
   ]
  },
  {
   "cell_type": "code",
   "execution_count": null,
   "id": "048bf78f",
   "metadata": {},
   "outputs": [],
   "source": []
  },
  {
   "cell_type": "code",
   "execution_count": 949,
   "id": "5f032e90",
   "metadata": {},
   "outputs": [
    {
     "name": "stdout",
     "output_type": "stream",
     "text": [
      "{'Accuracy': 0.8916540212443096, 'AUROC': 0.7871973759625914, 'AUPRC': 0.6710474034669829}\n"
     ]
    }
   ],
   "source": [
    "\n",
    "# clas = []\n",
    "# for k in ['poly', 'rbf', 'sigmoid']:\n",
    "#     print(k)\n",
    "from sklearn.svm import LinearSVC\n",
    "from sklearn.calibration import CalibratedClassifierCV\n",
    "svm = SVC(kernel='rbf')\n",
    "cla = CalibratedClassifierCV(svm) \n",
    "# cla = LinearSVC()\n",
    "cla.fit(X_train, y_train)\n",
    "cla.predict_proba(X_test)\n",
    "print(evaluate.get_metrics(y_test, y_pred))\n",
    "# clas.append(cla)"
   ]
  },
  {
   "cell_type": "code",
   "execution_count": 950,
   "id": "239e57a5",
   "metadata": {},
   "outputs": [
    {
     "name": "stdout",
     "output_type": "stream",
     "text": [
      "{'Accuracy': 0.8916540212443096, 'AUROC': 0.7871973759625914, 'AUPRC': 0.6710474034669829}\n"
     ]
    }
   ],
   "source": [
    "for cla in clas:\n",
    "    y_pred = cla.predict_proba(X_test)\n",
    "    print(evaluate.get_metrics(y_test, y_pred))0"
   ]
  },
  {
   "cell_type": "code",
   "execution_count": 894,
   "id": "b9b26935",
   "metadata": {},
   "outputs": [
    {
     "data": {
      "text/html": [
       "<div>\n",
       "<style scoped>\n",
       "    .dataframe tbody tr th:only-of-type {\n",
       "        vertical-align: middle;\n",
       "    }\n",
       "\n",
       "    .dataframe tbody tr th {\n",
       "        vertical-align: top;\n",
       "    }\n",
       "\n",
       "    .dataframe thead th {\n",
       "        text-align: right;\n",
       "    }\n",
       "</style>\n",
       "<table border=\"1\" class=\"dataframe\">\n",
       "  <thead>\n",
       "    <tr style=\"text-align: right;\">\n",
       "      <th></th>\n",
       "      <th>Accuracy</th>\n",
       "      <th>AUROC</th>\n",
       "      <th>AUPRC</th>\n",
       "      <th>min_samples_leaf</th>\n",
       "      <th>l2_regularization</th>\n",
       "      <th>learning_rate</th>\n",
       "    </tr>\n",
       "  </thead>\n",
       "  <tbody>\n",
       "    <tr>\n",
       "      <th>3</th>\n",
       "      <td>0.909788</td>\n",
       "      <td>0.928195</td>\n",
       "      <td>0.794035</td>\n",
       "      <td>16</td>\n",
       "      <td>0.35</td>\n",
       "      <td>0.035</td>\n",
       "    </tr>\n",
       "    <tr>\n",
       "      <th>2</th>\n",
       "      <td>0.909522</td>\n",
       "      <td>0.928383</td>\n",
       "      <td>0.794370</td>\n",
       "      <td>8</td>\n",
       "      <td>0.35</td>\n",
       "      <td>0.035</td>\n",
       "    </tr>\n",
       "    <tr>\n",
       "      <th>0</th>\n",
       "      <td>0.910167</td>\n",
       "      <td>0.928334</td>\n",
       "      <td>0.794684</td>\n",
       "      <td>2</td>\n",
       "      <td>0.35</td>\n",
       "      <td>0.035</td>\n",
       "    </tr>\n",
       "    <tr>\n",
       "      <th>1</th>\n",
       "      <td>0.909408</td>\n",
       "      <td>0.928384</td>\n",
       "      <td>0.794737</td>\n",
       "      <td>4</td>\n",
       "      <td>0.35</td>\n",
       "      <td>0.035</td>\n",
       "    </tr>\n",
       "  </tbody>\n",
       "</table>\n",
       "</div>"
      ],
      "text/plain": [
       "   Accuracy     AUROC     AUPRC  min_samples_leaf  l2_regularization  \\\n",
       "3  0.909788  0.928195  0.794035                16               0.35   \n",
       "2  0.909522  0.928383  0.794370                 8               0.35   \n",
       "0  0.910167  0.928334  0.794684                 2               0.35   \n",
       "1  0.909408  0.928384  0.794737                 4               0.35   \n",
       "\n",
       "   learning_rate  \n",
       "3          0.035  \n",
       "2          0.035  \n",
       "0          0.035  \n",
       "1          0.035  "
      ]
     },
     "execution_count": 894,
     "metadata": {},
     "output_type": "execute_result"
    }
   ],
   "source": [
    "boosting_readings.sort_values('AUPRC')"
   ]
  },
  {
   "cell_type": "code",
   "execution_count": 889,
   "id": "a2bdaa59",
   "metadata": {},
   "outputs": [
    {
     "data": {
      "image/png": "[encoded data removed]",
      "text/plain": [
       "<Figure size 720x720 with 3 Axes>"
      ]
     },
     "metadata": {},
     "output_type": "display_data"
    }
   ],
   "source": [
    "def plot(df, x, xlabel, grouping='<UNK>', log=True):\n",
    "\n",
    "    fig, ax = plt.subplots(nrows=3, figsize=(10,10), sharex=True)\n",
    "    ax[-1].set_xlabel(xlabel)\n",
    "\n",
    "    r1 = dtree_readings\n",
    "    if grouping == '<UNK>':\n",
    "        df = df.copy()\n",
    "        df[grouping] = 1\n",
    "        \n",
    "        \n",
    "    for g in df[grouping].unique():\n",
    "        r1 = df[df[grouping] == g]\n",
    "        r1 = r1.groupby(x, as_index=False).max()\n",
    "        ax[0].plot(r1[x], r1.Accuracy, label=g)\n",
    "        ax[0].set_ylabel('Accuracy')\n",
    "        ax[1].plot(r1[x], r1.AUROC, label=g)\n",
    "        ax[1].set_ylabel('AUROC')\n",
    "        ax[2].plot(r1[x], r1.AUPRC, label=g)\n",
    "        ax[2].set_ylabel('AUPRC')\n",
    "        if log:\n",
    "            plt.xscale('log', basex=2);\n",
    "        \n",
    "    if grouping != '<UNK>':\n",
    "        for a in ax:\n",
    "            a.legend()\n",
    "        \n",
    "plot(boosting_readings, 'min_samples_leaf', 'Min Samples Leaf', log=False)"
   ]
  },
  {
   "cell_type": "code",
   "execution_count": 596,
   "id": "72b84cb4",
   "metadata": {},
   "outputs": [],
   "source": [
    "import matplotlib.pyplot as plt"
   ]
  },
  {
   "cell_type": "code",
   "execution_count": 689,
   "id": "52bfd758",
   "metadata": {},
   "outputs": [
    {
     "name": "stderr",
     "output_type": "stream",
     "text": [
      "/var/folders/p8/0wsy16q946lb_4prf1n0l93m0000gp/T/ipykernel_855/1179013558.py:17: MatplotlibDeprecationWarning: The 'basex' parameter of __init__() has been renamed 'base' since Matplotlib 3.3; support for the old name will be dropped two minor releases later.\n",
      "  plt.xscale('log', basex=2);\n",
      "/var/folders/p8/0wsy16q946lb_4prf1n0l93m0000gp/T/ipykernel_855/1179013558.py:17: MatplotlibDeprecationWarning: The 'basex' parameter of __init__() has been renamed 'base' since Matplotlib 3.3; support for the old name will be dropped two minor releases later.\n",
      "  plt.xscale('log', basex=2);\n"
     ]
    },
    {
     "data": {
      "image/png": "[encoded data removed]",
      "text/plain": [
       "<Figure size 720x720 with 3 Axes>"
      ]
     },
     "metadata": {},
     "output_type": "display_data"
    }
   ],
   "source": [
    "plot(readings, 'n_neighbors', 'Neighbors (K)', 'weights')"
   ]
  },
  {
   "cell_type": "code",
   "execution_count": null,
   "id": "b9400b8c",
   "metadata": {},
   "outputs": [],
   "source": []
  },
  {
   "cell_type": "code",
   "execution_count": null,
   "id": "67132248",
   "metadata": {},
   "outputs": [],
   "source": []
  },
  {
   "cell_type": "code",
   "execution_count": 508,
   "id": "169a7182",
   "metadata": {},
   "outputs": [
    {
     "data": {
      "text/html": [
       "<div>\n",
       "<style scoped>\n",
       "    .dataframe tbody tr th:only-of-type {\n",
       "        vertical-align: middle;\n",
       "    }\n",
       "\n",
       "    .dataframe tbody tr th {\n",
       "        vertical-align: top;\n",
       "    }\n",
       "\n",
       "    .dataframe thead th {\n",
       "        text-align: right;\n",
       "    }\n",
       "</style>\n",
       "<table border=\"1\" class=\"dataframe\">\n",
       "  <thead>\n",
       "    <tr style=\"text-align: right;\">\n",
       "      <th></th>\n",
       "      <th>Accuracy</th>\n",
       "      <th>F1</th>\n",
       "      <th>AUPRC</th>\n",
       "      <th>x</th>\n",
       "    </tr>\n",
       "  </thead>\n",
       "  <tbody>\n",
       "    <tr>\n",
       "      <th>0</th>\n",
       "      <td>0.878338</td>\n",
       "      <td>0.666831</td>\n",
       "      <td>0.699509</td>\n",
       "      <td>1</td>\n",
       "    </tr>\n",
       "    <tr>\n",
       "      <th>1</th>\n",
       "      <td>0.885053</td>\n",
       "      <td>0.713057</td>\n",
       "      <td>0.723090</td>\n",
       "      <td>5</td>\n",
       "    </tr>\n",
       "    <tr>\n",
       "      <th>2</th>\n",
       "      <td>0.887860</td>\n",
       "      <td>0.732064</td>\n",
       "      <td>0.741374</td>\n",
       "      <td>10</td>\n",
       "    </tr>\n",
       "    <tr>\n",
       "      <th>3</th>\n",
       "      <td>0.891464</td>\n",
       "      <td>0.744652</td>\n",
       "      <td>0.756692</td>\n",
       "      <td>25</td>\n",
       "    </tr>\n",
       "    <tr>\n",
       "      <th>4</th>\n",
       "      <td>0.893323</td>\n",
       "      <td>0.749057</td>\n",
       "      <td>0.765990</td>\n",
       "      <td>50</td>\n",
       "    </tr>\n",
       "    <tr>\n",
       "      <th>5</th>\n",
       "      <td>0.895068</td>\n",
       "      <td>0.750555</td>\n",
       "      <td>0.770618</td>\n",
       "      <td>75</td>\n",
       "    </tr>\n",
       "    <tr>\n",
       "      <th>6</th>\n",
       "      <td>0.895599</td>\n",
       "      <td>0.750639</td>\n",
       "      <td>0.771872</td>\n",
       "      <td>100</td>\n",
       "    </tr>\n",
       "    <tr>\n",
       "      <th>7</th>\n",
       "      <td>0.897003</td>\n",
       "      <td>0.751335</td>\n",
       "      <td>0.773391</td>\n",
       "      <td>150</td>\n",
       "    </tr>\n",
       "    <tr>\n",
       "      <th>8</th>\n",
       "      <td>0.896813</td>\n",
       "      <td>0.747659</td>\n",
       "      <td>0.773381</td>\n",
       "      <td>200</td>\n",
       "    </tr>\n",
       "    <tr>\n",
       "      <th>9</th>\n",
       "      <td>0.898027</td>\n",
       "      <td>0.749202</td>\n",
       "      <td>0.773717</td>\n",
       "      <td>250</td>\n",
       "    </tr>\n",
       "    <tr>\n",
       "      <th>10</th>\n",
       "      <td>0.898369</td>\n",
       "      <td>0.747350</td>\n",
       "      <td>0.773951</td>\n",
       "      <td>300</td>\n",
       "    </tr>\n",
       "    <tr>\n",
       "      <th>11</th>\n",
       "      <td>0.900303</td>\n",
       "      <td>0.746962</td>\n",
       "      <td>0.772406</td>\n",
       "      <td>400</td>\n",
       "    </tr>\n",
       "    <tr>\n",
       "      <th>12</th>\n",
       "      <td>0.900417</td>\n",
       "      <td>0.743600</td>\n",
       "      <td>0.771595</td>\n",
       "      <td>500</td>\n",
       "    </tr>\n",
       "    <tr>\n",
       "      <th>13</th>\n",
       "      <td>0.901517</td>\n",
       "      <td>0.743298</td>\n",
       "      <td>0.770479</td>\n",
       "      <td>600</td>\n",
       "    </tr>\n",
       "  </tbody>\n",
       "</table>\n",
       "</div>"
      ],
      "text/plain": [
       "    Accuracy        F1     AUPRC    x\n",
       "0   0.878338  0.666831  0.699509    1\n",
       "1   0.885053  0.713057  0.723090    5\n",
       "2   0.887860  0.732064  0.741374   10\n",
       "3   0.891464  0.744652  0.756692   25\n",
       "4   0.893323  0.749057  0.765990   50\n",
       "5   0.895068  0.750555  0.770618   75\n",
       "6   0.895599  0.750639  0.771872  100\n",
       "7   0.897003  0.751335  0.773391  150\n",
       "8   0.896813  0.747659  0.773381  200\n",
       "9   0.898027  0.749202  0.773717  250\n",
       "10  0.898369  0.747350  0.773951  300\n",
       "11  0.900303  0.746962  0.772406  400\n",
       "12  0.900417  0.743600  0.771595  500\n",
       "13  0.901517  0.743298  0.770479  600"
      ]
     },
     "execution_count": 508,
     "metadata": {},
     "output_type": "execute_result"
    }
   ],
   "source": [
    "readings"
   ]
  },
  {
   "cell_type": "code",
   "execution_count": 373,
   "id": "d799b693",
   "metadata": {},
   "outputs": [],
   "source": [
    "df['y'] = df['y'].map({'yes': 1, 'no': 0}.get)"
   ]
  },
  {
   "cell_type": "code",
   "execution_count": 374,
   "id": "3814d709",
   "metadata": {},
   "outputs": [],
   "source": [
    "onehot_features = [\n",
    "    'job', 'marital', 'education', 'default', 'housing', 'loan',\n",
    "    'contact', 'month', 'day_of_week', 'poutcome'\n",
    "]\n",
    "numeric_features = [\n",
    "    \"age\",\n",
    "    \"duration\",\n",
    "    \"campaign\",\n",
    "    \"pdays\",\n",
    "]"
   ]
  },
  {
   "cell_type": "code",
   "execution_count": 375,
   "id": "22bda6ab",
   "metadata": {},
   "outputs": [],
   "source": [
    "from sklearn.preprocessing import OneHotEncoder, PowerTransformer\n",
    "\n",
    "onehot_encoder = OneHotEncoder(handle_unknown=\"ignore\", sparse=False)\n",
    "power_transformer = PowerTransformer()"
   ]
  },
  {
   "cell_type": "code",
   "execution_count": 376,
   "id": "79d8c070",
   "metadata": {},
   "outputs": [],
   "source": [
    "train_df, test_df = train_test_split(df, test_size=0.2, random_state=0)"
   ]
  },
  {
   "cell_type": "code",
   "execution_count": 377,
   "id": "3b4a8ff9",
   "metadata": {},
   "outputs": [
    {
     "data": {
      "text/plain": [
       "PowerTransformer()"
      ]
     },
     "execution_count": 377,
     "metadata": {},
     "output_type": "execute_result"
    }
   ],
   "source": [
    "onehot_encoder.fit(train_df[onehot_features])\n",
    "power_transformer.fit(train_df[numeric_features])"
   ]
  },
  {
   "cell_type": "code",
   "execution_count": 378,
   "id": "164f62a8",
   "metadata": {},
   "outputs": [],
   "source": [
    " def transform(df):\n",
    "    x1 = onehot_encoder.transform(df[onehot_features])\n",
    "    x3 = power_transformer.transform(df[numeric_features])\n",
    "    x3[pd.isnull(x3)] = 0\n",
    "    return np.concatenate([x1, x3], axis=1)\n",
    "\n",
    "train = transform(train_df), train_df[\"y\"]\n",
    "test = transform(test_df), test_df[\"y\"]"
   ]
  },
  {
   "cell_type": "code",
   "execution_count": 395,
   "id": "945e6542",
   "metadata": {},
   "outputs": [
    {
     "data": {
      "text/html": [
       "<div>\n",
       "<style scoped>\n",
       "    .dataframe tbody tr th:only-of-type {\n",
       "        vertical-align: middle;\n",
       "    }\n",
       "\n",
       "    .dataframe tbody tr th {\n",
       "        vertical-align: top;\n",
       "    }\n",
       "\n",
       "    .dataframe thead th {\n",
       "        text-align: right;\n",
       "    }\n",
       "</style>\n",
       "<table border=\"1\" class=\"dataframe\">\n",
       "  <thead>\n",
       "    <tr style=\"text-align: right;\">\n",
       "      <th></th>\n",
       "      <th>age</th>\n",
       "      <th>job</th>\n",
       "      <th>marital</th>\n",
       "      <th>education</th>\n",
       "      <th>default</th>\n",
       "      <th>housing</th>\n",
       "      <th>loan</th>\n",
       "      <th>contact</th>\n",
       "      <th>month</th>\n",
       "      <th>day_of_week</th>\n",
       "      <th>duration</th>\n",
       "      <th>campaign</th>\n",
       "      <th>pdays</th>\n",
       "      <th>previous</th>\n",
       "      <th>poutcome</th>\n",
       "      <th>y</th>\n",
       "    </tr>\n",
       "  </thead>\n",
       "  <tbody>\n",
       "    <tr>\n",
       "      <th>26529</th>\n",
       "      <td>41</td>\n",
       "      <td>blue-collar</td>\n",
       "      <td>married</td>\n",
       "      <td>basic.4y</td>\n",
       "      <td>unknown</td>\n",
       "      <td>yes</td>\n",
       "      <td>no</td>\n",
       "      <td>cellular</td>\n",
       "      <td>apr</td>\n",
       "      <td>fri</td>\n",
       "      <td>359</td>\n",
       "      <td>1</td>\n",
       "      <td>999</td>\n",
       "      <td>0</td>\n",
       "      <td>nonexistent</td>\n",
       "      <td>0</td>\n",
       "    </tr>\n",
       "    <tr>\n",
       "      <th>28227</th>\n",
       "      <td>29</td>\n",
       "      <td>admin.</td>\n",
       "      <td>single</td>\n",
       "      <td>university.degree</td>\n",
       "      <td>unknown</td>\n",
       "      <td>no</td>\n",
       "      <td>no</td>\n",
       "      <td>cellular</td>\n",
       "      <td>aug</td>\n",
       "      <td>thu</td>\n",
       "      <td>112</td>\n",
       "      <td>1</td>\n",
       "      <td>999</td>\n",
       "      <td>0</td>\n",
       "      <td>nonexistent</td>\n",
       "      <td>0</td>\n",
       "    </tr>\n",
       "    <tr>\n",
       "      <th>27170</th>\n",
       "      <td>33</td>\n",
       "      <td>admin.</td>\n",
       "      <td>married</td>\n",
       "      <td>university.degree</td>\n",
       "      <td>unknown</td>\n",
       "      <td>no</td>\n",
       "      <td>no</td>\n",
       "      <td>cellular</td>\n",
       "      <td>aug</td>\n",
       "      <td>fri</td>\n",
       "      <td>204</td>\n",
       "      <td>1</td>\n",
       "      <td>999</td>\n",
       "      <td>0</td>\n",
       "      <td>nonexistent</td>\n",
       "      <td>0</td>\n",
       "    </tr>\n",
       "    <tr>\n",
       "      <th>5460</th>\n",
       "      <td>27</td>\n",
       "      <td>unemployed</td>\n",
       "      <td>single</td>\n",
       "      <td>high.school</td>\n",
       "      <td>no</td>\n",
       "      <td>no</td>\n",
       "      <td>no</td>\n",
       "      <td>cellular</td>\n",
       "      <td>aug</td>\n",
       "      <td>wed</td>\n",
       "      <td>93</td>\n",
       "      <td>1</td>\n",
       "      <td>4</td>\n",
       "      <td>3</td>\n",
       "      <td>success</td>\n",
       "      <td>0</td>\n",
       "    </tr>\n",
       "    <tr>\n",
       "      <th>3069</th>\n",
       "      <td>51</td>\n",
       "      <td>admin.</td>\n",
       "      <td>married</td>\n",
       "      <td>university.degree</td>\n",
       "      <td>unknown</td>\n",
       "      <td>yes</td>\n",
       "      <td>no</td>\n",
       "      <td>cellular</td>\n",
       "      <td>aug</td>\n",
       "      <td>tue</td>\n",
       "      <td>507</td>\n",
       "      <td>2</td>\n",
       "      <td>999</td>\n",
       "      <td>0</td>\n",
       "      <td>nonexistent</td>\n",
       "      <td>0</td>\n",
       "    </tr>\n",
       "    <tr>\n",
       "      <th>...</th>\n",
       "      <td>...</td>\n",
       "      <td>...</td>\n",
       "      <td>...</td>\n",
       "      <td>...</td>\n",
       "      <td>...</td>\n",
       "      <td>...</td>\n",
       "      <td>...</td>\n",
       "      <td>...</td>\n",
       "      <td>...</td>\n",
       "      <td>...</td>\n",
       "      <td>...</td>\n",
       "      <td>...</td>\n",
       "      <td>...</td>\n",
       "      <td>...</td>\n",
       "      <td>...</td>\n",
       "      <td>...</td>\n",
       "    </tr>\n",
       "    <tr>\n",
       "      <th>20757</th>\n",
       "      <td>25</td>\n",
       "      <td>admin.</td>\n",
       "      <td>single</td>\n",
       "      <td>basic.9y</td>\n",
       "      <td>no</td>\n",
       "      <td>yes</td>\n",
       "      <td>yes</td>\n",
       "      <td>cellular</td>\n",
       "      <td>jul</td>\n",
       "      <td>thu</td>\n",
       "      <td>37</td>\n",
       "      <td>17</td>\n",
       "      <td>999</td>\n",
       "      <td>0</td>\n",
       "      <td>nonexistent</td>\n",
       "      <td>0</td>\n",
       "    </tr>\n",
       "    <tr>\n",
       "      <th>32103</th>\n",
       "      <td>52</td>\n",
       "      <td>blue-collar</td>\n",
       "      <td>married</td>\n",
       "      <td>basic.4y</td>\n",
       "      <td>unknown</td>\n",
       "      <td>no</td>\n",
       "      <td>yes</td>\n",
       "      <td>cellular</td>\n",
       "      <td>jul</td>\n",
       "      <td>fri</td>\n",
       "      <td>114</td>\n",
       "      <td>12</td>\n",
       "      <td>999</td>\n",
       "      <td>0</td>\n",
       "      <td>nonexistent</td>\n",
       "      <td>0</td>\n",
       "    </tr>\n",
       "    <tr>\n",
       "      <th>30403</th>\n",
       "      <td>56</td>\n",
       "      <td>blue-collar</td>\n",
       "      <td>married</td>\n",
       "      <td>basic.4y</td>\n",
       "      <td>no</td>\n",
       "      <td>yes</td>\n",
       "      <td>no</td>\n",
       "      <td>cellular</td>\n",
       "      <td>jul</td>\n",
       "      <td>thu</td>\n",
       "      <td>119</td>\n",
       "      <td>5</td>\n",
       "      <td>999</td>\n",
       "      <td>0</td>\n",
       "      <td>nonexistent</td>\n",
       "      <td>0</td>\n",
       "    </tr>\n",
       "    <tr>\n",
       "      <th>21243</th>\n",
       "      <td>42</td>\n",
       "      <td>housemaid</td>\n",
       "      <td>married</td>\n",
       "      <td>basic.4y</td>\n",
       "      <td>unknown</td>\n",
       "      <td>yes</td>\n",
       "      <td>no</td>\n",
       "      <td>telephone</td>\n",
       "      <td>jun</td>\n",
       "      <td>fri</td>\n",
       "      <td>408</td>\n",
       "      <td>5</td>\n",
       "      <td>999</td>\n",
       "      <td>0</td>\n",
       "      <td>nonexistent</td>\n",
       "      <td>0</td>\n",
       "    </tr>\n",
       "    <tr>\n",
       "      <th>2732</th>\n",
       "      <td>26</td>\n",
       "      <td>services</td>\n",
       "      <td>single</td>\n",
       "      <td>high.school</td>\n",
       "      <td>unknown</td>\n",
       "      <td>yes</td>\n",
       "      <td>no</td>\n",
       "      <td>cellular</td>\n",
       "      <td>jul</td>\n",
       "      <td>fri</td>\n",
       "      <td>34</td>\n",
       "      <td>3</td>\n",
       "      <td>999</td>\n",
       "      <td>0</td>\n",
       "      <td>nonexistent</td>\n",
       "      <td>0</td>\n",
       "    </tr>\n",
       "  </tbody>\n",
       "</table>\n",
       "<p>26360 rows × 16 columns</p>\n",
       "</div>"
      ],
      "text/plain": [
       "       age          job  marital          education  default housing loan  \\\n",
       "26529   41  blue-collar  married           basic.4y  unknown     yes   no   \n",
       "28227   29       admin.   single  university.degree  unknown      no   no   \n",
       "27170   33       admin.  married  university.degree  unknown      no   no   \n",
       "5460    27   unemployed   single        high.school       no      no   no   \n",
       "3069    51       admin.  married  university.degree  unknown     yes   no   \n",
       "...    ...          ...      ...                ...      ...     ...  ...   \n",
       "20757   25       admin.   single           basic.9y       no     yes  yes   \n",
       "32103   52  blue-collar  married           basic.4y  unknown      no  yes   \n",
       "30403   56  blue-collar  married           basic.4y       no     yes   no   \n",
       "21243   42    housemaid  married           basic.4y  unknown     yes   no   \n",
       "2732    26     services   single        high.school  unknown     yes   no   \n",
       "\n",
       "         contact month day_of_week  duration  campaign  pdays  previous  \\\n",
       "26529   cellular   apr         fri       359         1    999         0   \n",
       "28227   cellular   aug         thu       112         1    999         0   \n",
       "27170   cellular   aug         fri       204         1    999         0   \n",
       "5460    cellular   aug         wed        93         1      4         3   \n",
       "3069    cellular   aug         tue       507         2    999         0   \n",
       "...          ...   ...         ...       ...       ...    ...       ...   \n",
       "20757   cellular   jul         thu        37        17    999         0   \n",
       "32103   cellular   jul         fri       114        12    999         0   \n",
       "30403   cellular   jul         thu       119         5    999         0   \n",
       "21243  telephone   jun         fri       408         5    999         0   \n",
       "2732    cellular   jul         fri        34         3    999         0   \n",
       "\n",
       "          poutcome  y  \n",
       "26529  nonexistent  0  \n",
       "28227  nonexistent  0  \n",
       "27170  nonexistent  0  \n",
       "5460       success  0  \n",
       "3069   nonexistent  0  \n",
       "...            ... ..  \n",
       "20757  nonexistent  0  \n",
       "32103  nonexistent  0  \n",
       "30403  nonexistent  0  \n",
       "21243  nonexistent  0  \n",
       "2732   nonexistent  0  \n",
       "\n",
       "[26360 rows x 16 columns]"
      ]
     },
     "execution_count": 395,
     "metadata": {},
     "output_type": "execute_result"
    }
   ],
   "source": [
    "train_df"
   ]
  },
  {
   "cell_type": "code",
   "execution_count": 379,
   "id": "158d79a5",
   "metadata": {},
   "outputs": [
    {
     "data": {
      "text/plain": [
       "5379     0\n",
       "13301    0\n",
       "15089    0\n",
       "8998     0\n",
       "18820    0\n",
       "        ..\n",
       "22982    0\n",
       "29248    0\n",
       "28842    0\n",
       "12856    0\n",
       "27885    0\n",
       "Name: y, Length: 6590, dtype: int64"
      ]
     },
     "execution_count": 379,
     "metadata": {},
     "output_type": "execute_result"
    }
   ],
   "source": [
    "test[1]"
   ]
  },
  {
   "cell_type": "code",
   "execution_count": 380,
   "id": "5fc998f8",
   "metadata": {},
   "outputs": [
    {
     "data": {
      "text/plain": [
       "DecisionTreeClassifier()"
      ]
     },
     "execution_count": 380,
     "metadata": {},
     "output_type": "execute_result"
    }
   ],
   "source": [
    "cla = DecisionTreeClassifier()\n",
    "\n",
    "cla.fit(*train)"
   ]
  },
  {
   "cell_type": "code",
   "execution_count": 381,
   "id": "2c792b7d",
   "metadata": {},
   "outputs": [],
   "source": [
    "pred = cla.predict_proba(test[0])\n",
    "label = pred.argmax(axis=1)"
   ]
  },
  {
   "cell_type": "code",
   "execution_count": 391,
   "id": "206e6e63",
   "metadata": {},
   "outputs": [
    {
     "data": {
      "text/plain": [
       "array([0, 1])"
      ]
     },
     "execution_count": 391,
     "metadata": {},
     "output_type": "execute_result"
    }
   ],
   "source": [
    "test[1].unique()"
   ]
  },
  {
   "cell_type": "code",
   "execution_count": 393,
   "id": "b40ff0cf",
   "metadata": {},
   "outputs": [
    {
     "data": {
      "text/plain": [
       "0.7301985334901735"
      ]
     },
     "execution_count": 393,
     "metadata": {},
     "output_type": "execute_result"
    }
   ],
   "source": [
    "pr_auc_score(test[1], pred, average='macro')"
   ]
  },
  {
   "cell_type": "code",
   "execution_count": 273,
   "id": "d7ad00a7",
   "metadata": {},
   "outputs": [],
   "source": [
    "X = df[['distance_from_home', 'distance_from_last_transaction',\n",
    "       'ratio_to_median_purchase_price', 'repeat_retailer', 'used_chip',\n",
    "       'used_pin_number', 'online_order']]\n",
    "\n",
    "y = df['fraud']"
   ]
  },
  {
   "cell_type": "code",
   "execution_count": 274,
   "id": "b237de84",
   "metadata": {},
   "outputs": [],
   "source": [
    "from sklearn.linear_model import LogisticRegression"
   ]
  },
  {
   "cell_type": "code",
   "execution_count": 350,
   "id": "e146e505",
   "metadata": {},
   "outputs": [
    {
     "name": "stderr",
     "output_type": "stream",
     "text": [
      "/Users/vinit/miniforge3/envs/main/lib/python3.8/site-packages/sklearn/preprocessing/_data.py:3251: RuntimeWarning: divide by zero encountered in log\n",
      "  loglike = -n_samples / 2 * np.log(x_trans.var())\n"
     ]
    }
   ],
   "source": [
    "(X_train, y_train), (X_test, y_test) = load_credit_score()"
   ]
  },
  {
   "cell_type": "code",
   "execution_count": 351,
   "id": "99b58982",
   "metadata": {},
   "outputs": [
    {
     "data": {
      "text/plain": [
       "LogisticRegression()"
      ]
     },
     "execution_count": 351,
     "metadata": {},
     "output_type": "execute_result"
    }
   ],
   "source": [
    "cla = LogisticRegression()\n",
    "cla.fit(X_train, y_train)"
   ]
  },
  {
   "cell_type": "code",
   "execution_count": 352,
   "id": "a13bdfc5",
   "metadata": {},
   "outputs": [],
   "source": [
    "from sklearn.tree import export_text"
   ]
  },
  {
   "cell_type": "code",
   "execution_count": 353,
   "id": "cbaf75e4",
   "metadata": {},
   "outputs": [
    {
     "data": {
      "text/plain": [
       "0.636"
      ]
     },
     "execution_count": 353,
     "metadata": {},
     "output_type": "execute_result"
    }
   ],
   "source": [
    "\n",
    "cla.score(X_test, y_test)"
   ]
  },
  {
   "cell_type": "code",
   "execution_count": 354,
   "id": "4af5cb55",
   "metadata": {},
   "outputs": [
    {
     "data": {
      "text/plain": [
       "0.6445887157591524"
      ]
     },
     "execution_count": 354,
     "metadata": {},
     "output_type": "execute_result"
    }
   ],
   "source": [
    "pr_auc_score(y_test, cla.predict_proba(X_test))"
   ]
  },
  {
   "cell_type": "code",
   "execution_count": 355,
   "id": "3d47676d",
   "metadata": {},
   "outputs": [
    {
     "data": {
      "text/plain": [
       "0.6062927901513105"
      ]
     },
     "execution_count": 355,
     "metadata": {},
     "output_type": "execute_result"
    }
   ],
   "source": [
    "f1_score(y_test, cla.predict(X_test), average='macro')"
   ]
  },
  {
   "cell_type": "code",
   "execution_count": null,
   "id": "c0d5b0d3",
   "metadata": {},
   "outputs": [],
   "source": []
  },
  {
   "cell_type": "code",
   "execution_count": 269,
   "id": "92001c19",
   "metadata": {},
   "outputs": [
    {
     "name": "stderr",
     "output_type": "stream",
     "text": [
      "5it [00:29,  5.89s/it]\n"
     ]
    },
    {
     "data": {
      "text/plain": [
       "{'Accuracy': 0.6667124999999998,\n",
       " 'F1': 0.5649845606485757,\n",
       " 'AUPRC': 0.692646469624784}"
      ]
     },
     "execution_count": 269,
     "metadata": {},
     "output_type": "execute_result"
    }
   ],
   "source": [
    "model_fn = create_model_fn(GradientBoostingClassifier, {'max_leaf_nodes': 100, 'n_estimators': 10})\n",
    "cross_validate(X_train, y_train, model_fn)"
   ]
  },
  {
   "cell_type": "code",
   "execution_count": 203,
   "id": "a4b5803e",
   "metadata": {},
   "outputs": [],
   "source": [
    "(X_train, y_train), (X_test, y_test) = load_credit_score()"
   ]
  },
  {
   "cell_type": "code",
   "execution_count": 204,
   "id": "0aceec7f",
   "metadata": {},
   "outputs": [
    {
     "data": {
      "text/plain": [
       "(80000, 56)"
      ]
     },
     "execution_count": 204,
     "metadata": {},
     "output_type": "execute_result"
    }
   ],
   "source": [
    "GradientBoostingClassifier()"
   ]
  },
  {
   "cell_type": "code",
   "execution_count": 205,
   "id": "8697da6c",
   "metadata": {},
   "outputs": [
    {
     "data": {
      "text/plain": [
       "DecisionTreeClassifier(max_leaf_nodes=100)"
      ]
     },
     "execution_count": 205,
     "metadata": {},
     "output_type": "execute_result"
    }
   ],
   "source": [
    "knn = DecisionTreeClassifier(max_leaf_nodes=100)\n",
    "knn.fit(X_train, y_train)"
   ]
  },
  {
   "cell_type": "code",
   "execution_count": 211,
   "id": "d8ab2440",
   "metadata": {},
   "outputs": [],
   "source": [
    "pred = knn.predict_proba(X_train)"
   ]
  },
  {
   "cell_type": "code",
   "execution_count": 212,
   "id": "c24b0a79",
   "metadata": {},
   "outputs": [
    {
     "data": {
      "text/plain": [
       "(80000,)"
      ]
     },
     "execution_count": 212,
     "metadata": {},
     "output_type": "execute_result"
    }
   ],
   "source": [
    "pred.argmax(axis=1).shape"
   ]
  },
  {
   "cell_type": "code",
   "execution_count": 242,
   "id": "315f38bb",
   "metadata": {},
   "outputs": [],
   "source": [
    "\n",
    "\n",
    "# f1_score(y_train, pred.argmax(axis=1), average=\"macro\")\n",
    "# f1_score(y_train, pred.argmax(axis=1), average=\"weighted\")\n",
    "\n",
    "\n",
    "#, multi_class=\"ovr\")"
   ]
  },
  {
   "cell_type": "code",
   "execution_count": 245,
   "id": "c61ff883",
   "metadata": {},
   "outputs": [
    {
     "data": {
      "text/plain": [
       "0.8591310130449298"
      ]
     },
     "execution_count": 245,
     "metadata": {},
     "output_type": "execute_result"
    }
   ],
   "source": [
    "pr_auc_score(y_train, pred, average=\"macro\", multi_class='ovo')"
   ]
  },
  {
   "cell_type": "code",
   "execution_count": null,
   "id": "1e6c435c",
   "metadata": {},
   "outputs": [],
   "source": [
    "precision_recall_score(y_train, pred, average=\"macro\")"
   ]
  },
  {
   "cell_type": "code",
   "execution_count": 208,
   "id": "ce33b118",
   "metadata": {},
   "outputs": [
    {
     "data": {
      "text/plain": [
       "array([0, 1, 2])"
      ]
     },
     "execution_count": 208,
     "metadata": {},
     "output_type": "execute_result"
    }
   ],
   "source": [
    "knn.classes_"
   ]
  },
  {
   "cell_type": "code",
   "execution_count": 210,
   "id": "528f391d",
   "metadata": {},
   "outputs": [
    {
     "data": {
      "text/plain": [
       "(array([23172.,     0.,     0.,     0.,     0., 42589.,     0.,     0.,\n",
       "            0., 14239.]),\n",
       " array([0. , 0.2, 0.4, 0.6, 0.8, 1. , 1.2, 1.4, 1.6, 1.8, 2. ]),\n",
       " <BarContainer object of 10 artists>)"
      ]
     },
     "execution_count": 210,
     "metadata": {},
     "output_type": "execute_result"
    },
    {
     "data": {
      "image/png": "[encoded data removed]",
      "text/plain": [
       "<Figure size 432x288 with 1 Axes>"
      ]
     },
     "metadata": {
      "needs_background": "light"
     },
     "output_type": "display_data"
    }
   ],
   "source": [
    "import matplotlib.pyplot as plt\n",
    "\n",
    "plt.hist(y_train)"
   ]
  }
 ],
 "metadata": {
  "kernelspec": {
   "display_name": "Python 3 (ipykernel)",
   "language": "python",
   "name": "python3"
  },
  "language_info": {
   "codemirror_mode": {
    "name": "ipython",
    "version": 3
   },
   "file_extension": ".py",
   "mimetype": "text/x-python",
   "name": "python",
   "nbconvert_exporter": "python",
   "pygments_lexer": "ipython3",
   "version": "3.8.12"
  }
 },
 "nbformat": 4,
 "nbformat_minor": 5
}

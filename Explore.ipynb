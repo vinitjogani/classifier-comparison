{
 "cells": [
  {
   "cell_type": "code",
   "execution_count": 246,
   "id": "bf9a47c0",
   "metadata": {},
   "outputs": [],
   "source": [
    "import re\n",
    "import pandas as pd\n",
    "import numpy as np\n",
    "from collections import defaultdict\n",
    "\n",
    "from sklearn.model_selection import train_test_split\n",
    "from sklearn.preprocessing import OneHotEncoder\n",
    "\n",
    "from sklearn.tree import DecisionTreeClassifier\n",
    "from sklearn.neural_network import MLPClassifier\n",
    "from sklearn.ensemble import GradientBoostingClassifier\n",
    "from sklearn.svm import SVC\n",
    "from sklearn.neighbors import KNeighborsClassifier\n",
    "from sklearn.model_selection import KFold\n",
    "from sklearn.metrics import f1_score, auc, precision_recall_curve"
   ]
  },
  {
   "cell_type": "code",
   "execution_count": null,
   "id": "68c3379e",
   "metadata": {},
   "outputs": [],
   "source": []
  },
  {
   "cell_type": "code",
   "execution_count": 59,
   "id": "372e4053",
   "metadata": {},
   "outputs": [],
   "source": []
  },
  {
   "cell_type": "code",
   "execution_count": 199,
   "id": "97a7e7fb",
   "metadata": {
    "scrolled": true
   },
   "outputs": [],
   "source": []
  },
  {
   "cell_type": "code",
   "execution_count": 267,
   "id": "ab8d3cf2",
   "metadata": {},
   "outputs": [],
   "source": []
  },
  {
   "cell_type": "code",
   "execution_count": 268,
   "id": "65b91ccc",
   "metadata": {},
   "outputs": [],
   "source": []
  },
  {
   "cell_type": "code",
   "execution_count": 269,
   "id": "b02b0a1a",
   "metadata": {},
   "outputs": [
    {
     "name": "stderr",
     "output_type": "stream",
     "text": [
      "5it [00:29,  5.89s/it]\n"
     ]
    },
    {
     "data": {
      "text/plain": [
       "{'Accuracy': 0.6667124999999998,\n",
       " 'F1': 0.5649845606485757,\n",
       " 'AUPRC': 0.692646469624784}"
      ]
     },
     "execution_count": 269,
     "metadata": {},
     "output_type": "execute_result"
    }
   ],
   "source": [
    "model_fn = create_model_fn(GradientBoostingClassifier, {'max_leaf_nodes': 100, 'n_estimators': 10})\n",
    "cross_validate(X_train, y_train, model_fn)"
   ]
  },
  {
   "cell_type": "code",
   "execution_count": 203,
   "id": "11bd87f8",
   "metadata": {},
   "outputs": [],
   "source": [
    "(X_train, y_train), (X_test, y_test) = load_credit_score()"
   ]
  },
  {
   "cell_type": "code",
   "execution_count": 204,
   "id": "3f0b8179",
   "metadata": {},
   "outputs": [
    {
     "data": {
      "text/plain": [
       "(80000, 56)"
      ]
     },
     "execution_count": 204,
     "metadata": {},
     "output_type": "execute_result"
    }
   ],
   "source": [
    "GradientBoostingClassifier()"
   ]
  },
  {
   "cell_type": "code",
   "execution_count": 205,
   "id": "42ca6f4b",
   "metadata": {},
   "outputs": [
    {
     "data": {
      "text/plain": [
       "DecisionTreeClassifier(max_leaf_nodes=100)"
      ]
     },
     "execution_count": 205,
     "metadata": {},
     "output_type": "execute_result"
    }
   ],
   "source": [
    "knn = DecisionTreeClassifier(max_leaf_nodes=100)\n",
    "knn.fit(X_train, y_train)"
   ]
  },
  {
   "cell_type": "code",
   "execution_count": 211,
   "id": "ba5c5ab9",
   "metadata": {},
   "outputs": [],
   "source": [
    "pred = knn.predict_proba(X_train)"
   ]
  },
  {
   "cell_type": "code",
   "execution_count": 212,
   "id": "05f074d4",
   "metadata": {},
   "outputs": [
    {
     "data": {
      "text/plain": [
       "(80000,)"
      ]
     },
     "execution_count": 212,
     "metadata": {},
     "output_type": "execute_result"
    }
   ],
   "source": [
    "pred.argmax(axis=1).shape"
   ]
  },
  {
   "cell_type": "code",
   "execution_count": 242,
   "id": "163bd575",
   "metadata": {},
   "outputs": [],
   "source": [
    "\n",
    "\n",
    "# f1_score(y_train, pred.argmax(axis=1), average=\"macro\")\n",
    "# f1_score(y_train, pred.argmax(axis=1), average=\"weighted\")\n",
    "\n",
    "\n",
    "#, multi_class=\"ovr\")"
   ]
  },
  {
   "cell_type": "code",
   "execution_count": 245,
   "id": "6772d8fe",
   "metadata": {},
   "outputs": [
    {
     "data": {
      "text/plain": [
       "0.8591310130449298"
      ]
     },
     "execution_count": 245,
     "metadata": {},
     "output_type": "execute_result"
    }
   ],
   "source": [
    "pr_auc_score(y_train, pred, average=\"macro\", multi_class='ovo')"
   ]
  },
  {
   "cell_type": "code",
   "execution_count": null,
   "id": "2ff442ef",
   "metadata": {},
   "outputs": [],
   "source": [
    "precision_recall_score(y_train, pred, average=\"macro\")"
   ]
  },
  {
   "cell_type": "code",
   "execution_count": 208,
   "id": "1b37d580",
   "metadata": {},
   "outputs": [
    {
     "data": {
      "text/plain": [
       "array([0, 1, 2])"
      ]
     },
     "execution_count": 208,
     "metadata": {},
     "output_type": "execute_result"
    }
   ],
   "source": [
    "knn.classes_"
   ]
  },
  {
   "cell_type": "code",
   "execution_count": 210,
   "id": "d1daf46d",
   "metadata": {},
   "outputs": [
    {
     "data": {
      "text/plain": [
       "(array([23172.,     0.,     0.,     0.,     0., 42589.,     0.,     0.,\n",
       "            0., 14239.]),\n",
       " array([0. , 0.2, 0.4, 0.6, 0.8, 1. , 1.2, 1.4, 1.6, 1.8, 2. ]),\n",
       " <BarContainer object of 10 artists>)"
      ]
     },
     "execution_count": 210,
     "metadata": {},
     "output_type": "execute_result"
    },
    {
     "data": {
      "image/png": "[encoded data removed]",
      "text/plain": [
       "<Figure size 432x288 with 1 Axes>"
      ]
     },
     "metadata": {
      "needs_background": "light"
     },
     "output_type": "display_data"
    }
   ],
   "source": [
    "import matplotlib.pyplot as plt\n",
    "\n",
    "plt.hist(y_train)"
   ]
  }
 ],
 "metadata": {
  "kernelspec": {
   "display_name": "Python 3 (ipykernel)",
   "language": "python",
   "name": "python3"
  },
  "language_info": {
   "codemirror_mode": {
    "name": "ipython",
    "version": 3
   },
   "file_extension": ".py",
   "mimetype": "text/x-python",
   "name": "python",
   "nbconvert_exporter": "python",
   "pygments_lexer": "ipython3",
   "version": "3.8.12"
  }
 },
 "nbformat": 4,
 "nbformat_minor": 5
}
